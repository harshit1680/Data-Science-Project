{
 "cells": [
  {
   "cell_type": "code",
   "execution_count": 1,
   "id": "c7eda018",
   "metadata": {},
   "outputs": [],
   "source": [
    "#Importing Libraries\n",
    "import os\n",
    "import pandas as pd\n",
    "import numpy as np\n",
    "import matplotlib.pyplot as plt\n",
    "import seaborn as sns\n",
    "%matplotlib inline\n",
    "import warnings\n",
    "warnings.filterwarnings('ignore')\n",
    "\n",
    "from sklearn.model_selection import train_test_split\n",
    "import sklearn.metrics as metrics"
   ]
  },
  {
   "cell_type": "code",
   "execution_count": 3,
   "id": "ee11a619",
   "metadata": {},
   "outputs": [
    {
     "data": {
      "text/html": [
       "<div>\n",
       "<style scoped>\n",
       "    .dataframe tbody tr th:only-of-type {\n",
       "        vertical-align: middle;\n",
       "    }\n",
       "\n",
       "    .dataframe tbody tr th {\n",
       "        vertical-align: top;\n",
       "    }\n",
       "\n",
       "    .dataframe thead th {\n",
       "        text-align: right;\n",
       "    }\n",
       "</style>\n",
       "<table border=\"1\" class=\"dataframe\">\n",
       "  <thead>\n",
       "    <tr style=\"text-align: right;\">\n",
       "      <th></th>\n",
       "      <th>index</th>\n",
       "      <th>step</th>\n",
       "      <th>type</th>\n",
       "      <th>amount</th>\n",
       "      <th>nameOrig</th>\n",
       "      <th>oldbalanceOrg</th>\n",
       "      <th>newbalanceOrig</th>\n",
       "      <th>nameDest</th>\n",
       "      <th>oldbalanceDest</th>\n",
       "      <th>newbalanceDest</th>\n",
       "      <th>isFraud</th>\n",
       "      <th>isFlaggedFraud</th>\n",
       "    </tr>\n",
       "  </thead>\n",
       "  <tbody>\n",
       "    <tr>\n",
       "      <th>0</th>\n",
       "      <td>3737323</td>\n",
       "      <td>278</td>\n",
       "      <td>CASH_IN</td>\n",
       "      <td>330218.42</td>\n",
       "      <td>C632336343</td>\n",
       "      <td>20866.00</td>\n",
       "      <td>351084.42</td>\n",
       "      <td>C834976624</td>\n",
       "      <td>452419.57</td>\n",
       "      <td>122201.15</td>\n",
       "      <td>0</td>\n",
       "      <td>0</td>\n",
       "    </tr>\n",
       "    <tr>\n",
       "      <th>1</th>\n",
       "      <td>264914</td>\n",
       "      <td>15</td>\n",
       "      <td>PAYMENT</td>\n",
       "      <td>11647.08</td>\n",
       "      <td>C1264712553</td>\n",
       "      <td>30370.00</td>\n",
       "      <td>18722.92</td>\n",
       "      <td>M215391829</td>\n",
       "      <td>0.00</td>\n",
       "      <td>0.00</td>\n",
       "      <td>0</td>\n",
       "      <td>0</td>\n",
       "    </tr>\n",
       "    <tr>\n",
       "      <th>2</th>\n",
       "      <td>85647</td>\n",
       "      <td>10</td>\n",
       "      <td>CASH_IN</td>\n",
       "      <td>152264.21</td>\n",
       "      <td>C1746846248</td>\n",
       "      <td>106589.00</td>\n",
       "      <td>258853.21</td>\n",
       "      <td>C1607284477</td>\n",
       "      <td>201303.01</td>\n",
       "      <td>49038.80</td>\n",
       "      <td>0</td>\n",
       "      <td>0</td>\n",
       "    </tr>\n",
       "    <tr>\n",
       "      <th>3</th>\n",
       "      <td>5899326</td>\n",
       "      <td>403</td>\n",
       "      <td>TRANSFER</td>\n",
       "      <td>1551760.63</td>\n",
       "      <td>C333676753</td>\n",
       "      <td>0.00</td>\n",
       "      <td>0.00</td>\n",
       "      <td>C1564353608</td>\n",
       "      <td>3198359.45</td>\n",
       "      <td>4750120.08</td>\n",
       "      <td>0</td>\n",
       "      <td>0</td>\n",
       "    </tr>\n",
       "    <tr>\n",
       "      <th>4</th>\n",
       "      <td>2544263</td>\n",
       "      <td>206</td>\n",
       "      <td>CASH_IN</td>\n",
       "      <td>78172.30</td>\n",
       "      <td>C813403091</td>\n",
       "      <td>2921331.58</td>\n",
       "      <td>2999503.88</td>\n",
       "      <td>C1091768874</td>\n",
       "      <td>415821.90</td>\n",
       "      <td>337649.60</td>\n",
       "      <td>0</td>\n",
       "      <td>0</td>\n",
       "    </tr>\n",
       "  </tbody>\n",
       "</table>\n",
       "</div>"
      ],
      "text/plain": [
       "     index  step      type      amount     nameOrig  oldbalanceOrg  \\\n",
       "0  3737323   278   CASH_IN   330218.42   C632336343       20866.00   \n",
       "1   264914    15   PAYMENT    11647.08  C1264712553       30370.00   \n",
       "2    85647    10   CASH_IN   152264.21  C1746846248      106589.00   \n",
       "3  5899326   403  TRANSFER  1551760.63   C333676753           0.00   \n",
       "4  2544263   206   CASH_IN    78172.30   C813403091     2921331.58   \n",
       "\n",
       "   newbalanceOrig     nameDest  oldbalanceDest  newbalanceDest  isFraud  \\\n",
       "0       351084.42   C834976624       452419.57       122201.15        0   \n",
       "1        18722.92   M215391829            0.00            0.00        0   \n",
       "2       258853.21  C1607284477       201303.01        49038.80        0   \n",
       "3            0.00  C1564353608      3198359.45      4750120.08        0   \n",
       "4      2999503.88  C1091768874       415821.90       337649.60        0   \n",
       "\n",
       "   isFlaggedFraud  \n",
       "0               0  \n",
       "1               0  \n",
       "2               0  \n",
       "3               0  \n",
       "4               0  "
      ]
     },
     "execution_count": 3,
     "metadata": {},
     "output_type": "execute_result"
    }
   ],
   "source": [
    "df=pd.read_csv('Money Laundering.csv')\n",
    "MoneyL_dataset = df.sample(n=75000, random_state=42)\n",
    "MoneyL_dataset.reset_index(inplace=True)\n",
    "MoneyL_dataset.head()"
   ]
  },
  {
   "cell_type": "code",
   "execution_count": 5,
   "id": "b78a37c0",
   "metadata": {},
   "outputs": [],
   "source": [
    "MoneyL_dataset=MoneyL_dataset.drop(\"index\",axis=1)"
   ]
  },
  {
   "cell_type": "code",
   "execution_count": 6,
   "id": "93e143f1",
   "metadata": {},
   "outputs": [
    {
     "data": {
      "text/html": [
       "<div>\n",
       "<style scoped>\n",
       "    .dataframe tbody tr th:only-of-type {\n",
       "        vertical-align: middle;\n",
       "    }\n",
       "\n",
       "    .dataframe tbody tr th {\n",
       "        vertical-align: top;\n",
       "    }\n",
       "\n",
       "    .dataframe thead th {\n",
       "        text-align: right;\n",
       "    }\n",
       "</style>\n",
       "<table border=\"1\" class=\"dataframe\">\n",
       "  <thead>\n",
       "    <tr style=\"text-align: right;\">\n",
       "      <th></th>\n",
       "      <th>step</th>\n",
       "      <th>type</th>\n",
       "      <th>amount</th>\n",
       "      <th>nameOrig</th>\n",
       "      <th>oldbalanceOrg</th>\n",
       "      <th>newbalanceOrig</th>\n",
       "      <th>nameDest</th>\n",
       "      <th>oldbalanceDest</th>\n",
       "      <th>newbalanceDest</th>\n",
       "      <th>isFraud</th>\n",
       "      <th>isFlaggedFraud</th>\n",
       "    </tr>\n",
       "  </thead>\n",
       "  <tbody>\n",
       "    <tr>\n",
       "      <th>0</th>\n",
       "      <td>278</td>\n",
       "      <td>CASH_IN</td>\n",
       "      <td>330218.42</td>\n",
       "      <td>C632336343</td>\n",
       "      <td>20866.00</td>\n",
       "      <td>351084.42</td>\n",
       "      <td>C834976624</td>\n",
       "      <td>452419.57</td>\n",
       "      <td>122201.15</td>\n",
       "      <td>0</td>\n",
       "      <td>0</td>\n",
       "    </tr>\n",
       "    <tr>\n",
       "      <th>1</th>\n",
       "      <td>15</td>\n",
       "      <td>PAYMENT</td>\n",
       "      <td>11647.08</td>\n",
       "      <td>C1264712553</td>\n",
       "      <td>30370.00</td>\n",
       "      <td>18722.92</td>\n",
       "      <td>M215391829</td>\n",
       "      <td>0.00</td>\n",
       "      <td>0.00</td>\n",
       "      <td>0</td>\n",
       "      <td>0</td>\n",
       "    </tr>\n",
       "    <tr>\n",
       "      <th>2</th>\n",
       "      <td>10</td>\n",
       "      <td>CASH_IN</td>\n",
       "      <td>152264.21</td>\n",
       "      <td>C1746846248</td>\n",
       "      <td>106589.00</td>\n",
       "      <td>258853.21</td>\n",
       "      <td>C1607284477</td>\n",
       "      <td>201303.01</td>\n",
       "      <td>49038.80</td>\n",
       "      <td>0</td>\n",
       "      <td>0</td>\n",
       "    </tr>\n",
       "    <tr>\n",
       "      <th>3</th>\n",
       "      <td>403</td>\n",
       "      <td>TRANSFER</td>\n",
       "      <td>1551760.63</td>\n",
       "      <td>C333676753</td>\n",
       "      <td>0.00</td>\n",
       "      <td>0.00</td>\n",
       "      <td>C1564353608</td>\n",
       "      <td>3198359.45</td>\n",
       "      <td>4750120.08</td>\n",
       "      <td>0</td>\n",
       "      <td>0</td>\n",
       "    </tr>\n",
       "    <tr>\n",
       "      <th>4</th>\n",
       "      <td>206</td>\n",
       "      <td>CASH_IN</td>\n",
       "      <td>78172.30</td>\n",
       "      <td>C813403091</td>\n",
       "      <td>2921331.58</td>\n",
       "      <td>2999503.88</td>\n",
       "      <td>C1091768874</td>\n",
       "      <td>415821.90</td>\n",
       "      <td>337649.60</td>\n",
       "      <td>0</td>\n",
       "      <td>0</td>\n",
       "    </tr>\n",
       "  </tbody>\n",
       "</table>\n",
       "</div>"
      ],
      "text/plain": [
       "   step      type      amount     nameOrig  oldbalanceOrg  newbalanceOrig  \\\n",
       "0   278   CASH_IN   330218.42   C632336343       20866.00       351084.42   \n",
       "1    15   PAYMENT    11647.08  C1264712553       30370.00        18722.92   \n",
       "2    10   CASH_IN   152264.21  C1746846248      106589.00       258853.21   \n",
       "3   403  TRANSFER  1551760.63   C333676753           0.00            0.00   \n",
       "4   206   CASH_IN    78172.30   C813403091     2921331.58      2999503.88   \n",
       "\n",
       "      nameDest  oldbalanceDest  newbalanceDest  isFraud  isFlaggedFraud  \n",
       "0   C834976624       452419.57       122201.15        0               0  \n",
       "1   M215391829            0.00            0.00        0               0  \n",
       "2  C1607284477       201303.01        49038.80        0               0  \n",
       "3  C1564353608      3198359.45      4750120.08        0               0  \n",
       "4  C1091768874       415821.90       337649.60        0               0  "
      ]
     },
     "execution_count": 6,
     "metadata": {},
     "output_type": "execute_result"
    }
   ],
   "source": [
    "MoneyL_dataset.head()"
   ]
  },
  {
   "cell_type": "code",
   "execution_count": 7,
   "id": "e591f780",
   "metadata": {},
   "outputs": [
    {
     "name": "stdout",
     "output_type": "stream",
     "text": [
      "<class 'pandas.core.frame.DataFrame'>\n",
      "RangeIndex: 75000 entries, 0 to 74999\n",
      "Data columns (total 11 columns):\n",
      " #   Column          Non-Null Count  Dtype  \n",
      "---  ------          --------------  -----  \n",
      " 0   step            75000 non-null  int64  \n",
      " 1   type            75000 non-null  object \n",
      " 2   amount          75000 non-null  float64\n",
      " 3   nameOrig        75000 non-null  object \n",
      " 4   oldbalanceOrg   75000 non-null  float64\n",
      " 5   newbalanceOrig  75000 non-null  float64\n",
      " 6   nameDest        75000 non-null  object \n",
      " 7   oldbalanceDest  75000 non-null  float64\n",
      " 8   newbalanceDest  75000 non-null  float64\n",
      " 9   isFraud         75000 non-null  int64  \n",
      " 10  isFlaggedFraud  75000 non-null  int64  \n",
      "dtypes: float64(5), int64(3), object(3)\n",
      "memory usage: 6.3+ MB\n"
     ]
    }
   ],
   "source": [
    "MoneyL_dataset.info()"
   ]
  },
  {
   "cell_type": "code",
   "execution_count": 8,
   "id": "e4d166e5",
   "metadata": {},
   "outputs": [
    {
     "name": "stdout",
     "output_type": "stream",
     "text": [
      "The Number of Rows (Obeservation) : 75000 \n",
      " The number of Columns (variables) : 11\n"
     ]
    }
   ],
   "source": [
    "print(\"The Number of Rows (Obeservation) :\" ,MoneyL_dataset.shape[0],'\\n',\"The number of Columns (variables) :\", MoneyL_dataset.shape[1])"
   ]
  },
  {
   "cell_type": "code",
   "execution_count": 9,
   "id": "fe81b463",
   "metadata": {},
   "outputs": [
    {
     "data": {
      "text/html": [
       "<div>\n",
       "<style scoped>\n",
       "    .dataframe tbody tr th:only-of-type {\n",
       "        vertical-align: middle;\n",
       "    }\n",
       "\n",
       "    .dataframe tbody tr th {\n",
       "        vertical-align: top;\n",
       "    }\n",
       "\n",
       "    .dataframe thead th {\n",
       "        text-align: right;\n",
       "    }\n",
       "</style>\n",
       "<table border=\"1\" class=\"dataframe\">\n",
       "  <thead>\n",
       "    <tr style=\"text-align: right;\">\n",
       "      <th></th>\n",
       "      <th>count</th>\n",
       "      <th>mean</th>\n",
       "      <th>std</th>\n",
       "      <th>min</th>\n",
       "      <th>25%</th>\n",
       "      <th>50%</th>\n",
       "      <th>75%</th>\n",
       "      <th>max</th>\n",
       "    </tr>\n",
       "  </thead>\n",
       "  <tbody>\n",
       "    <tr>\n",
       "      <th>step</th>\n",
       "      <td>75000.0</td>\n",
       "      <td>2.437299e+02</td>\n",
       "      <td>1.428553e+02</td>\n",
       "      <td>1.00</td>\n",
       "      <td>156.0000</td>\n",
       "      <td>239.000</td>\n",
       "      <td>3.350000e+02</td>\n",
       "      <td>7.360000e+02</td>\n",
       "    </tr>\n",
       "    <tr>\n",
       "      <th>amount</th>\n",
       "      <td>75000.0</td>\n",
       "      <td>1.794147e+05</td>\n",
       "      <td>5.373701e+05</td>\n",
       "      <td>0.92</td>\n",
       "      <td>13482.4075</td>\n",
       "      <td>76045.255</td>\n",
       "      <td>2.098748e+05</td>\n",
       "      <td>3.697390e+07</td>\n",
       "    </tr>\n",
       "    <tr>\n",
       "      <th>oldbalanceOrg</th>\n",
       "      <td>75000.0</td>\n",
       "      <td>8.383823e+05</td>\n",
       "      <td>2.914083e+06</td>\n",
       "      <td>0.00</td>\n",
       "      <td>0.0000</td>\n",
       "      <td>13695.000</td>\n",
       "      <td>1.068500e+05</td>\n",
       "      <td>3.359321e+07</td>\n",
       "    </tr>\n",
       "    <tr>\n",
       "      <th>newbalanceOrig</th>\n",
       "      <td>75000.0</td>\n",
       "      <td>8.602226e+05</td>\n",
       "      <td>2.949748e+06</td>\n",
       "      <td>0.00</td>\n",
       "      <td>0.0000</td>\n",
       "      <td>0.000</td>\n",
       "      <td>1.467099e+05</td>\n",
       "      <td>3.388709e+07</td>\n",
       "    </tr>\n",
       "    <tr>\n",
       "      <th>oldbalanceDest</th>\n",
       "      <td>75000.0</td>\n",
       "      <td>1.095766e+06</td>\n",
       "      <td>3.203505e+06</td>\n",
       "      <td>0.00</td>\n",
       "      <td>0.0000</td>\n",
       "      <td>141269.235</td>\n",
       "      <td>9.593808e+05</td>\n",
       "      <td>2.362896e+08</td>\n",
       "    </tr>\n",
       "    <tr>\n",
       "      <th>newbalanceDest</th>\n",
       "      <td>75000.0</td>\n",
       "      <td>1.219350e+06</td>\n",
       "      <td>3.444468e+06</td>\n",
       "      <td>0.00</td>\n",
       "      <td>0.0000</td>\n",
       "      <td>220880.095</td>\n",
       "      <td>1.125103e+06</td>\n",
       "      <td>2.724047e+08</td>\n",
       "    </tr>\n",
       "    <tr>\n",
       "      <th>isFraud</th>\n",
       "      <td>75000.0</td>\n",
       "      <td>1.386667e-03</td>\n",
       "      <td>3.721239e-02</td>\n",
       "      <td>0.00</td>\n",
       "      <td>0.0000</td>\n",
       "      <td>0.000</td>\n",
       "      <td>0.000000e+00</td>\n",
       "      <td>1.000000e+00</td>\n",
       "    </tr>\n",
       "    <tr>\n",
       "      <th>isFlaggedFraud</th>\n",
       "      <td>75000.0</td>\n",
       "      <td>1.333333e-05</td>\n",
       "      <td>3.651484e-03</td>\n",
       "      <td>0.00</td>\n",
       "      <td>0.0000</td>\n",
       "      <td>0.000</td>\n",
       "      <td>0.000000e+00</td>\n",
       "      <td>1.000000e+00</td>\n",
       "    </tr>\n",
       "  </tbody>\n",
       "</table>\n",
       "</div>"
      ],
      "text/plain": [
       "                  count          mean           std   min         25%  \\\n",
       "step            75000.0  2.437299e+02  1.428553e+02  1.00    156.0000   \n",
       "amount          75000.0  1.794147e+05  5.373701e+05  0.92  13482.4075   \n",
       "oldbalanceOrg   75000.0  8.383823e+05  2.914083e+06  0.00      0.0000   \n",
       "newbalanceOrig  75000.0  8.602226e+05  2.949748e+06  0.00      0.0000   \n",
       "oldbalanceDest  75000.0  1.095766e+06  3.203505e+06  0.00      0.0000   \n",
       "newbalanceDest  75000.0  1.219350e+06  3.444468e+06  0.00      0.0000   \n",
       "isFraud         75000.0  1.386667e-03  3.721239e-02  0.00      0.0000   \n",
       "isFlaggedFraud  75000.0  1.333333e-05  3.651484e-03  0.00      0.0000   \n",
       "\n",
       "                       50%           75%           max  \n",
       "step               239.000  3.350000e+02  7.360000e+02  \n",
       "amount           76045.255  2.098748e+05  3.697390e+07  \n",
       "oldbalanceOrg    13695.000  1.068500e+05  3.359321e+07  \n",
       "newbalanceOrig       0.000  1.467099e+05  3.388709e+07  \n",
       "oldbalanceDest  141269.235  9.593808e+05  2.362896e+08  \n",
       "newbalanceDest  220880.095  1.125103e+06  2.724047e+08  \n",
       "isFraud              0.000  0.000000e+00  1.000000e+00  \n",
       "isFlaggedFraud       0.000  0.000000e+00  1.000000e+00  "
      ]
     },
     "execution_count": 9,
     "metadata": {},
     "output_type": "execute_result"
    }
   ],
   "source": [
    "MoneyL_dataset.describe().transpose()"
   ]
  },
  {
   "cell_type": "code",
   "execution_count": 10,
   "id": "5005dfbb",
   "metadata": {},
   "outputs": [],
   "source": [
    "MoneyL_dataset_sub=MoneyL_dataset"
   ]
  },
  {
   "cell_type": "markdown",
   "id": "2ea3272c",
   "metadata": {},
   "source": [
    "## EDA"
   ]
  },
  {
   "cell_type": "code",
   "execution_count": 13,
   "id": "69d08e77",
   "metadata": {},
   "outputs": [],
   "source": [
    "# Converting \"Type\" nominal col. to integer\n",
    "mapping={'PAYMENT':0, 'TRANSFER':1,'CASH_OUT':2,'DEBIT':3,'CASH_IN':4}\n",
    "MoneyL_dataset_sub[\"type\"]=MoneyL_dataset_sub[\"type\"].replace(mapping)"
   ]
  },
  {
   "cell_type": "code",
   "execution_count": 14,
   "id": "394f51c9",
   "metadata": {},
   "outputs": [
    {
     "data": {
      "text/html": [
       "<div>\n",
       "<style scoped>\n",
       "    .dataframe tbody tr th:only-of-type {\n",
       "        vertical-align: middle;\n",
       "    }\n",
       "\n",
       "    .dataframe tbody tr th {\n",
       "        vertical-align: top;\n",
       "    }\n",
       "\n",
       "    .dataframe thead th {\n",
       "        text-align: right;\n",
       "    }\n",
       "</style>\n",
       "<table border=\"1\" class=\"dataframe\">\n",
       "  <thead>\n",
       "    <tr style=\"text-align: right;\">\n",
       "      <th></th>\n",
       "      <th>step</th>\n",
       "      <th>type</th>\n",
       "      <th>amount</th>\n",
       "      <th>nameOrig</th>\n",
       "      <th>oldbalanceOrg</th>\n",
       "      <th>newbalanceOrig</th>\n",
       "      <th>nameDest</th>\n",
       "      <th>oldbalanceDest</th>\n",
       "      <th>newbalanceDest</th>\n",
       "      <th>isFraud</th>\n",
       "      <th>isFlaggedFraud</th>\n",
       "    </tr>\n",
       "  </thead>\n",
       "  <tbody>\n",
       "    <tr>\n",
       "      <th>0</th>\n",
       "      <td>278</td>\n",
       "      <td>4</td>\n",
       "      <td>330218.42</td>\n",
       "      <td>C632336343</td>\n",
       "      <td>20866.00</td>\n",
       "      <td>351084.42</td>\n",
       "      <td>C834976624</td>\n",
       "      <td>452419.57</td>\n",
       "      <td>122201.15</td>\n",
       "      <td>0</td>\n",
       "      <td>0</td>\n",
       "    </tr>\n",
       "    <tr>\n",
       "      <th>1</th>\n",
       "      <td>15</td>\n",
       "      <td>0</td>\n",
       "      <td>11647.08</td>\n",
       "      <td>C1264712553</td>\n",
       "      <td>30370.00</td>\n",
       "      <td>18722.92</td>\n",
       "      <td>M215391829</td>\n",
       "      <td>0.00</td>\n",
       "      <td>0.00</td>\n",
       "      <td>0</td>\n",
       "      <td>0</td>\n",
       "    </tr>\n",
       "    <tr>\n",
       "      <th>2</th>\n",
       "      <td>10</td>\n",
       "      <td>4</td>\n",
       "      <td>152264.21</td>\n",
       "      <td>C1746846248</td>\n",
       "      <td>106589.00</td>\n",
       "      <td>258853.21</td>\n",
       "      <td>C1607284477</td>\n",
       "      <td>201303.01</td>\n",
       "      <td>49038.80</td>\n",
       "      <td>0</td>\n",
       "      <td>0</td>\n",
       "    </tr>\n",
       "    <tr>\n",
       "      <th>3</th>\n",
       "      <td>403</td>\n",
       "      <td>1</td>\n",
       "      <td>1551760.63</td>\n",
       "      <td>C333676753</td>\n",
       "      <td>0.00</td>\n",
       "      <td>0.00</td>\n",
       "      <td>C1564353608</td>\n",
       "      <td>3198359.45</td>\n",
       "      <td>4750120.08</td>\n",
       "      <td>0</td>\n",
       "      <td>0</td>\n",
       "    </tr>\n",
       "    <tr>\n",
       "      <th>4</th>\n",
       "      <td>206</td>\n",
       "      <td>4</td>\n",
       "      <td>78172.30</td>\n",
       "      <td>C813403091</td>\n",
       "      <td>2921331.58</td>\n",
       "      <td>2999503.88</td>\n",
       "      <td>C1091768874</td>\n",
       "      <td>415821.90</td>\n",
       "      <td>337649.60</td>\n",
       "      <td>0</td>\n",
       "      <td>0</td>\n",
       "    </tr>\n",
       "  </tbody>\n",
       "</table>\n",
       "</div>"
      ],
      "text/plain": [
       "   step  type      amount     nameOrig  oldbalanceOrg  newbalanceOrig  \\\n",
       "0   278     4   330218.42   C632336343       20866.00       351084.42   \n",
       "1    15     0    11647.08  C1264712553       30370.00        18722.92   \n",
       "2    10     4   152264.21  C1746846248      106589.00       258853.21   \n",
       "3   403     1  1551760.63   C333676753           0.00            0.00   \n",
       "4   206     4    78172.30   C813403091     2921331.58      2999503.88   \n",
       "\n",
       "      nameDest  oldbalanceDest  newbalanceDest  isFraud  isFlaggedFraud  \n",
       "0   C834976624       452419.57       122201.15        0               0  \n",
       "1   M215391829            0.00            0.00        0               0  \n",
       "2  C1607284477       201303.01        49038.80        0               0  \n",
       "3  C1564353608      3198359.45      4750120.08        0               0  \n",
       "4  C1091768874       415821.90       337649.60        0               0  "
      ]
     },
     "execution_count": 14,
     "metadata": {},
     "output_type": "execute_result"
    }
   ],
   "source": [
    "MoneyL_dataset_sub.head()"
   ]
  },
  {
   "cell_type": "code",
   "execution_count": 15,
   "id": "d4a0cc23",
   "metadata": {},
   "outputs": [],
   "source": [
    "#Dropping Nominal columns\n",
    "MoneyL_dataset_sub1=MoneyL_dataset_sub.drop([\"nameOrig\",\"nameDest\"], axis=1)"
   ]
  },
  {
   "cell_type": "code",
   "execution_count": 16,
   "id": "434b243c",
   "metadata": {},
   "outputs": [
    {
     "data": {
      "text/html": [
       "<div>\n",
       "<style scoped>\n",
       "    .dataframe tbody tr th:only-of-type {\n",
       "        vertical-align: middle;\n",
       "    }\n",
       "\n",
       "    .dataframe tbody tr th {\n",
       "        vertical-align: top;\n",
       "    }\n",
       "\n",
       "    .dataframe thead th {\n",
       "        text-align: right;\n",
       "    }\n",
       "</style>\n",
       "<table border=\"1\" class=\"dataframe\">\n",
       "  <thead>\n",
       "    <tr style=\"text-align: right;\">\n",
       "      <th></th>\n",
       "      <th>step</th>\n",
       "      <th>type</th>\n",
       "      <th>amount</th>\n",
       "      <th>oldbalanceOrg</th>\n",
       "      <th>newbalanceOrig</th>\n",
       "      <th>oldbalanceDest</th>\n",
       "      <th>newbalanceDest</th>\n",
       "      <th>isFraud</th>\n",
       "      <th>isFlaggedFraud</th>\n",
       "    </tr>\n",
       "  </thead>\n",
       "  <tbody>\n",
       "    <tr>\n",
       "      <th>0</th>\n",
       "      <td>278</td>\n",
       "      <td>4</td>\n",
       "      <td>330218.42</td>\n",
       "      <td>20866.00</td>\n",
       "      <td>351084.42</td>\n",
       "      <td>452419.57</td>\n",
       "      <td>122201.15</td>\n",
       "      <td>0</td>\n",
       "      <td>0</td>\n",
       "    </tr>\n",
       "    <tr>\n",
       "      <th>1</th>\n",
       "      <td>15</td>\n",
       "      <td>0</td>\n",
       "      <td>11647.08</td>\n",
       "      <td>30370.00</td>\n",
       "      <td>18722.92</td>\n",
       "      <td>0.00</td>\n",
       "      <td>0.00</td>\n",
       "      <td>0</td>\n",
       "      <td>0</td>\n",
       "    </tr>\n",
       "    <tr>\n",
       "      <th>2</th>\n",
       "      <td>10</td>\n",
       "      <td>4</td>\n",
       "      <td>152264.21</td>\n",
       "      <td>106589.00</td>\n",
       "      <td>258853.21</td>\n",
       "      <td>201303.01</td>\n",
       "      <td>49038.80</td>\n",
       "      <td>0</td>\n",
       "      <td>0</td>\n",
       "    </tr>\n",
       "    <tr>\n",
       "      <th>3</th>\n",
       "      <td>403</td>\n",
       "      <td>1</td>\n",
       "      <td>1551760.63</td>\n",
       "      <td>0.00</td>\n",
       "      <td>0.00</td>\n",
       "      <td>3198359.45</td>\n",
       "      <td>4750120.08</td>\n",
       "      <td>0</td>\n",
       "      <td>0</td>\n",
       "    </tr>\n",
       "    <tr>\n",
       "      <th>4</th>\n",
       "      <td>206</td>\n",
       "      <td>4</td>\n",
       "      <td>78172.30</td>\n",
       "      <td>2921331.58</td>\n",
       "      <td>2999503.88</td>\n",
       "      <td>415821.90</td>\n",
       "      <td>337649.60</td>\n",
       "      <td>0</td>\n",
       "      <td>0</td>\n",
       "    </tr>\n",
       "  </tbody>\n",
       "</table>\n",
       "</div>"
      ],
      "text/plain": [
       "   step  type      amount  oldbalanceOrg  newbalanceOrig  oldbalanceDest  \\\n",
       "0   278     4   330218.42       20866.00       351084.42       452419.57   \n",
       "1    15     0    11647.08       30370.00        18722.92            0.00   \n",
       "2    10     4   152264.21      106589.00       258853.21       201303.01   \n",
       "3   403     1  1551760.63           0.00            0.00      3198359.45   \n",
       "4   206     4    78172.30     2921331.58      2999503.88       415821.90   \n",
       "\n",
       "   newbalanceDest  isFraud  isFlaggedFraud  \n",
       "0       122201.15        0               0  \n",
       "1            0.00        0               0  \n",
       "2        49038.80        0               0  \n",
       "3      4750120.08        0               0  \n",
       "4       337649.60        0               0  "
      ]
     },
     "execution_count": 16,
     "metadata": {},
     "output_type": "execute_result"
    }
   ],
   "source": [
    "MoneyL_dataset_sub1.head()"
   ]
  },
  {
   "cell_type": "code",
   "execution_count": 17,
   "id": "f622ba66",
   "metadata": {},
   "outputs": [
    {
     "data": {
      "text/plain": [
       "<AxesSubplot:>"
      ]
     },
     "execution_count": 17,
     "metadata": {},
     "output_type": "execute_result"
    },
    {
     "data": {
      "image/png": "[encoded data removed]",
      "text/plain": [
       "<Figure size 640x480 with 2 Axes>"
      ]
     },
     "metadata": {},
     "output_type": "display_data"
    }
   ],
   "source": [
    "#Correlation\n",
    "sns.heatmap(MoneyL_dataset_sub1.corr(), annot = True)"
   ]
  },
  {
   "cell_type": "code",
   "execution_count": 18,
   "id": "51d5bfe2",
   "metadata": {},
   "outputs": [],
   "source": [
    "#Dropping highly correlated columns\n",
    "MoneyL_dataset_sub1=MoneyL_dataset_sub1.drop([\"oldbalanceOrg\",\"oldbalanceDest\"],axis=1)"
   ]
  },
  {
   "cell_type": "code",
   "execution_count": 19,
   "id": "25cc481a",
   "metadata": {},
   "outputs": [
    {
     "data": {
      "text/html": [
       "<div>\n",
       "<style scoped>\n",
       "    .dataframe tbody tr th:only-of-type {\n",
       "        vertical-align: middle;\n",
       "    }\n",
       "\n",
       "    .dataframe tbody tr th {\n",
       "        vertical-align: top;\n",
       "    }\n",
       "\n",
       "    .dataframe thead th {\n",
       "        text-align: right;\n",
       "    }\n",
       "</style>\n",
       "<table border=\"1\" class=\"dataframe\">\n",
       "  <thead>\n",
       "    <tr style=\"text-align: right;\">\n",
       "      <th></th>\n",
       "      <th>step</th>\n",
       "      <th>type</th>\n",
       "      <th>amount</th>\n",
       "      <th>newbalanceOrig</th>\n",
       "      <th>newbalanceDest</th>\n",
       "      <th>isFraud</th>\n",
       "      <th>isFlaggedFraud</th>\n",
       "    </tr>\n",
       "  </thead>\n",
       "  <tbody>\n",
       "    <tr>\n",
       "      <th>0</th>\n",
       "      <td>278</td>\n",
       "      <td>4</td>\n",
       "      <td>330218.42</td>\n",
       "      <td>351084.42</td>\n",
       "      <td>122201.15</td>\n",
       "      <td>0</td>\n",
       "      <td>0</td>\n",
       "    </tr>\n",
       "    <tr>\n",
       "      <th>1</th>\n",
       "      <td>15</td>\n",
       "      <td>0</td>\n",
       "      <td>11647.08</td>\n",
       "      <td>18722.92</td>\n",
       "      <td>0.00</td>\n",
       "      <td>0</td>\n",
       "      <td>0</td>\n",
       "    </tr>\n",
       "    <tr>\n",
       "      <th>2</th>\n",
       "      <td>10</td>\n",
       "      <td>4</td>\n",
       "      <td>152264.21</td>\n",
       "      <td>258853.21</td>\n",
       "      <td>49038.80</td>\n",
       "      <td>0</td>\n",
       "      <td>0</td>\n",
       "    </tr>\n",
       "    <tr>\n",
       "      <th>3</th>\n",
       "      <td>403</td>\n",
       "      <td>1</td>\n",
       "      <td>1551760.63</td>\n",
       "      <td>0.00</td>\n",
       "      <td>4750120.08</td>\n",
       "      <td>0</td>\n",
       "      <td>0</td>\n",
       "    </tr>\n",
       "    <tr>\n",
       "      <th>4</th>\n",
       "      <td>206</td>\n",
       "      <td>4</td>\n",
       "      <td>78172.30</td>\n",
       "      <td>2999503.88</td>\n",
       "      <td>337649.60</td>\n",
       "      <td>0</td>\n",
       "      <td>0</td>\n",
       "    </tr>\n",
       "  </tbody>\n",
       "</table>\n",
       "</div>"
      ],
      "text/plain": [
       "   step  type      amount  newbalanceOrig  newbalanceDest  isFraud  \\\n",
       "0   278     4   330218.42       351084.42       122201.15        0   \n",
       "1    15     0    11647.08        18722.92            0.00        0   \n",
       "2    10     4   152264.21       258853.21        49038.80        0   \n",
       "3   403     1  1551760.63            0.00      4750120.08        0   \n",
       "4   206     4    78172.30      2999503.88       337649.60        0   \n",
       "\n",
       "   isFlaggedFraud  \n",
       "0               0  \n",
       "1               0  \n",
       "2               0  \n",
       "3               0  \n",
       "4               0  "
      ]
     },
     "execution_count": 19,
     "metadata": {},
     "output_type": "execute_result"
    }
   ],
   "source": [
    "MoneyL_dataset_sub1.head()"
   ]
  },
  {
   "cell_type": "code",
   "execution_count": 20,
   "id": "06a76407",
   "metadata": {},
   "outputs": [
    {
     "data": {
      "text/plain": [
       "1"
      ]
     },
     "execution_count": 20,
     "metadata": {},
     "output_type": "execute_result"
    }
   ],
   "source": [
    "#Handling Duplicate rows\n",
    "MoneyL_dataset_sub1.duplicated().sum()"
   ]
  },
  {
   "cell_type": "code",
   "execution_count": 21,
   "id": "15f8009d",
   "metadata": {},
   "outputs": [
    {
     "data": {
      "text/plain": [
       "step  type  amount      newbalanceOrig  newbalanceDest  isFraud  isFlaggedFraud\n",
       "304   1     10000000.0  0.0             30759565.57     0        0                 2\n",
       "dtype: int64"
      ]
     },
     "execution_count": 21,
     "metadata": {},
     "output_type": "execute_result"
    }
   ],
   "source": [
    "mask=MoneyL_dataset_sub1.duplicated(keep=False)\n",
    "MoneyL_dataset_sub1[mask].value_counts()"
   ]
  },
  {
   "cell_type": "code",
   "execution_count": 22,
   "id": "3829f589",
   "metadata": {},
   "outputs": [],
   "source": [
    "MoneyL_dataset_sub1=MoneyL_dataset_sub1.drop_duplicates(keep='first')"
   ]
  },
  {
   "cell_type": "code",
   "execution_count": 23,
   "id": "28cdc830",
   "metadata": {},
   "outputs": [
    {
     "data": {
      "text/plain": [
       "0"
      ]
     },
     "execution_count": 23,
     "metadata": {},
     "output_type": "execute_result"
    }
   ],
   "source": [
    "MoneyL_dataset_sub1.duplicated().sum()"
   ]
  },
  {
   "cell_type": "code",
   "execution_count": 24,
   "id": "ded149c8",
   "metadata": {},
   "outputs": [
    {
     "data": {
      "text/plain": [
       "step              0\n",
       "type              0\n",
       "amount            0\n",
       "newbalanceOrig    0\n",
       "newbalanceDest    0\n",
       "isFraud           0\n",
       "isFlaggedFraud    0\n",
       "dtype: int64"
      ]
     },
     "execution_count": 24,
     "metadata": {},
     "output_type": "execute_result"
    }
   ],
   "source": [
    "MoneyL_dataset_sub1.isnull().sum()"
   ]
  },
  {
   "cell_type": "code",
   "execution_count": 25,
   "id": "9d86beab",
   "metadata": {},
   "outputs": [],
   "source": [
    "MoneyL_dataset_sub1_X=MoneyL_dataset_sub1.drop(\"isFraud\", axis=1)\n",
    "MoneyL_dataset_sub1_Y=MoneyL_dataset_sub1[\"isFraud\"]"
   ]
  },
  {
   "cell_type": "code",
   "execution_count": 26,
   "id": "2928298f",
   "metadata": {},
   "outputs": [],
   "source": [
    "# Let's check the number of outliers per columns\n",
    "\n",
    "Q1 = MoneyL_dataset_sub1_X.quantile(0.25)\n",
    "Q3 = MoneyL_dataset_sub1_X.quantile(0.75)\n",
    "IQR = Q3 - Q1\n",
    "UL = Q3 + 1.5 * IQR\n",
    "LL = Q1 - 1.5 * IQR"
   ]
  },
  {
   "cell_type": "code",
   "execution_count": 27,
   "id": "fccd5b99",
   "metadata": {},
   "outputs": [
    {
     "data": {
      "text/plain": [
       "step               1221\n",
       "type                  0\n",
       "amount             3985\n",
       "newbalanceOrig    12444\n",
       "newbalanceDest     8691\n",
       "isFlaggedFraud        1\n",
       "dtype: int64"
      ]
     },
     "execution_count": 27,
     "metadata": {},
     "output_type": "execute_result"
    }
   ],
   "source": [
    "((MoneyL_dataset_sub1_X > UL) | (MoneyL_dataset_sub1_X < LL)).sum()"
   ]
  },
  {
   "cell_type": "markdown",
   "id": "cef69730",
   "metadata": {},
   "source": [
    "## Modelling"
   ]
  },
  {
   "cell_type": "markdown",
   "id": "eafd0096",
   "metadata": {},
   "source": [
    "## Random Forest "
   ]
  },
  {
   "cell_type": "code",
   "execution_count": 28,
   "id": "4eb82e6a",
   "metadata": {},
   "outputs": [],
   "source": [
    "# Scale the predictors\n",
    "\n",
    "from sklearn.preprocessing import StandardScaler\n",
    "scaler = StandardScaler()\n",
    "scaled_predictor = pd.DataFrame(scaler.fit_transform(MoneyL_dataset_sub1_X), columns=MoneyL_dataset_sub1_X.columns)"
   ]
  },
  {
   "cell_type": "code",
   "execution_count": 29,
   "id": "f727c0fe",
   "metadata": {},
   "outputs": [
    {
     "data": {
      "text/html": [
       "<div>\n",
       "<style scoped>\n",
       "    .dataframe tbody tr th:only-of-type {\n",
       "        vertical-align: middle;\n",
       "    }\n",
       "\n",
       "    .dataframe tbody tr th {\n",
       "        vertical-align: top;\n",
       "    }\n",
       "\n",
       "    .dataframe thead th {\n",
       "        text-align: right;\n",
       "    }\n",
       "</style>\n",
       "<table border=\"1\" class=\"dataframe\">\n",
       "  <thead>\n",
       "    <tr style=\"text-align: right;\">\n",
       "      <th></th>\n",
       "      <th>step</th>\n",
       "      <th>type</th>\n",
       "      <th>amount</th>\n",
       "      <th>newbalanceOrig</th>\n",
       "      <th>newbalanceDest</th>\n",
       "      <th>isFlaggedFraud</th>\n",
       "    </tr>\n",
       "  </thead>\n",
       "  <tbody>\n",
       "    <tr>\n",
       "      <th>0</th>\n",
       "      <td>0.239900</td>\n",
       "      <td>1.545806</td>\n",
       "      <td>0.281504</td>\n",
       "      <td>-0.172608</td>\n",
       "      <td>-0.318567</td>\n",
       "      <td>-0.003652</td>\n",
       "    </tr>\n",
       "    <tr>\n",
       "      <th>1</th>\n",
       "      <td>-1.601127</td>\n",
       "      <td>-1.136220</td>\n",
       "      <td>-0.312655</td>\n",
       "      <td>-0.285283</td>\n",
       "      <td>-0.354062</td>\n",
       "      <td>-0.003652</td>\n",
       "    </tr>\n",
       "    <tr>\n",
       "      <th>2</th>\n",
       "      <td>-1.636127</td>\n",
       "      <td>1.545806</td>\n",
       "      <td>-0.050393</td>\n",
       "      <td>-0.203875</td>\n",
       "      <td>-0.339818</td>\n",
       "      <td>-0.003652</td>\n",
       "    </tr>\n",
       "    <tr>\n",
       "      <th>3</th>\n",
       "      <td>1.114912</td>\n",
       "      <td>-0.465713</td>\n",
       "      <td>2.559769</td>\n",
       "      <td>-0.291630</td>\n",
       "      <td>1.025672</td>\n",
       "      <td>-0.003652</td>\n",
       "    </tr>\n",
       "    <tr>\n",
       "      <th>4</th>\n",
       "      <td>-0.264108</td>\n",
       "      <td>1.545806</td>\n",
       "      <td>-0.188580</td>\n",
       "      <td>0.725239</td>\n",
       "      <td>-0.255987</td>\n",
       "      <td>-0.003652</td>\n",
       "    </tr>\n",
       "  </tbody>\n",
       "</table>\n",
       "</div>"
      ],
      "text/plain": [
       "       step      type    amount  newbalanceOrig  newbalanceDest  \\\n",
       "0  0.239900  1.545806  0.281504       -0.172608       -0.318567   \n",
       "1 -1.601127 -1.136220 -0.312655       -0.285283       -0.354062   \n",
       "2 -1.636127  1.545806 -0.050393       -0.203875       -0.339818   \n",
       "3  1.114912 -0.465713  2.559769       -0.291630        1.025672   \n",
       "4 -0.264108  1.545806 -0.188580        0.725239       -0.255987   \n",
       "\n",
       "   isFlaggedFraud  \n",
       "0       -0.003652  \n",
       "1       -0.003652  \n",
       "2       -0.003652  \n",
       "3       -0.003652  \n",
       "4       -0.003652  "
      ]
     },
     "execution_count": 29,
     "metadata": {},
     "output_type": "execute_result"
    }
   ],
   "source": [
    "scaled_predictor.head()"
   ]
  },
  {
   "cell_type": "code",
   "execution_count": 30,
   "id": "83f4bafd",
   "metadata": {},
   "outputs": [],
   "source": [
    "X2_train,X2_test,Y2_train,Y2_test=train_test_split(scaled_predictor,MoneyL_dataset_sub1_Y,test_size=0.3,random_state=42)"
   ]
  },
  {
   "cell_type": "code",
   "execution_count": 32,
   "id": "b6339e2a",
   "metadata": {},
   "outputs": [],
   "source": [
    "no_feat=len(X2_train.columns)"
   ]
  },
  {
   "cell_type": "code",
   "execution_count": 33,
   "id": "0c2cd81b",
   "metadata": {},
   "outputs": [
    {
     "data": {
      "text/plain": [
       "2"
      ]
     },
     "execution_count": 33,
     "metadata": {},
     "output_type": "execute_result"
    }
   ],
   "source": [
    "# max_depth can be square root of number of features(col.) in the dataset\n",
    "depth=int(np.log2(no_feat))\n",
    "depth"
   ]
  },
  {
   "cell_type": "code",
   "execution_count": 34,
   "id": "470af034",
   "metadata": {},
   "outputs": [
    {
     "data": {
      "text/plain": [
       "RandomForestClassifier(max_depth=2, oob_score=True, random_state=101)"
      ]
     },
     "execution_count": 34,
     "metadata": {},
     "output_type": "execute_result"
    }
   ],
   "source": [
    "## Importing Random Forest Classifier from the sklearn.ensemble\n",
    "\n",
    "from sklearn.ensemble import RandomForestClassifier\n",
    "\n",
    "## Initializing the Random Forest Classifier with max_dept and n_estimators\n",
    "\n",
    "modelRF = RandomForestClassifier(max_depth=depth, n_estimators=100,oob_score=True, random_state=101)\n",
    "modelRF.fit(X2_train, Y2_train)"
   ]
  },
  {
   "cell_type": "code",
   "execution_count": 35,
   "id": "47ffa2e6",
   "metadata": {},
   "outputs": [],
   "source": [
    "pred_Y_test= modelRF.predict(X2_test)"
   ]
  },
  {
   "cell_type": "code",
   "execution_count": 37,
   "id": "3be3fe7f",
   "metadata": {},
   "outputs": [
    {
     "name": "stdout",
     "output_type": "stream",
     "text": [
      "              precision    recall  f1-score   support\n",
      "\n",
      "           0       1.00      1.00      1.00     22464\n",
      "           1       0.00      0.00      0.00        36\n",
      "\n",
      "    accuracy                           1.00     22500\n",
      "   macro avg       0.50      0.50      0.50     22500\n",
      "weighted avg       1.00      1.00      1.00     22500\n",
      "\n"
     ]
    }
   ],
   "source": [
    "from sklearn.metrics import classification_report, confusion_matrix\n",
    "from sklearn import metrics\n",
    "print(metrics.classification_report(Y2_test, pred_Y_test))"
   ]
  },
  {
   "cell_type": "code",
   "execution_count": 40,
   "id": "8b88bb99",
   "metadata": {},
   "outputs": [
    {
     "data": {
      "text/plain": [
       "0.9496806000712251"
      ]
     },
     "execution_count": 40,
     "metadata": {},
     "output_type": "execute_result"
    }
   ],
   "source": [
    "auc = metrics.roc_auc_score(Y2_test, modelRF.predict_proba(X2_test)[:,1])\n",
    "auc"
   ]
  },
  {
   "cell_type": "code",
   "execution_count": 45,
   "id": "f3984829",
   "metadata": {},
   "outputs": [
    {
     "data": {
      "text/plain": [
       "GridSearchCV(cv=10, estimator=RandomForestClassifier(random_state=101),\n",
       "             param_grid=[{'max_depth': [5, 10, 15],\n",
       "                          'n_estimators': [50, 100, 150]}],\n",
       "             scoring='roc_auc')"
      ]
     },
     "execution_count": 45,
     "metadata": {},
     "output_type": "execute_result"
    }
   ],
   "source": [
    "## Configuring parameters and values for searched\n",
    "from sklearn.model_selection import GridSearchCV\n",
    "\n",
    "params = [{'max_depth': [5, 10, 15], 'n_estimators': [50, 100, 150]}]\n",
    "\n",
    "modelRF = RandomForestClassifier(random_state=101)\n",
    "\n",
    "## Configuring search with the tunable parameters\n",
    "\n",
    "modelCV = GridSearchCV(modelRF, params, cv=10, scoring='roc_auc')\n",
    "\n",
    "## Fitting the training set\n",
    "\n",
    "modelCV.fit(X2_train, Y2_train)"
   ]
  },
  {
   "cell_type": "code",
   "execution_count": 46,
   "id": "47292424",
   "metadata": {},
   "outputs": [
    {
     "data": {
      "text/plain": [
       "0.9623313245562111"
      ]
     },
     "execution_count": 46,
     "metadata": {},
     "output_type": "execute_result"
    }
   ],
   "source": [
    "modelCV.best_score_"
   ]
  },
  {
   "cell_type": "code",
   "execution_count": 47,
   "id": "edc4b08e",
   "metadata": {},
   "outputs": [
    {
     "data": {
      "text/plain": [
       "{'max_depth': 5, 'n_estimators': 150}"
      ]
     },
     "execution_count": 47,
     "metadata": {},
     "output_type": "execute_result"
    }
   ],
   "source": [
    "modelCV.best_params_"
   ]
  },
  {
   "cell_type": "markdown",
   "id": "2e549062",
   "metadata": {},
   "source": [
    "## Building the model with Best Parameter"
   ]
  },
  {
   "cell_type": "code",
   "execution_count": 49,
   "id": "bc002956",
   "metadata": {},
   "outputs": [
    {
     "data": {
      "text/plain": [
       "RandomForestClassifier(max_depth=5, n_estimators=150, oob_score=True,\n",
       "                       random_state=101)"
      ]
     },
     "execution_count": 49,
     "metadata": {},
     "output_type": "execute_result"
    }
   ],
   "source": [
    "## Initializing the Random Forest Model with the optimal values\n",
    "\n",
    "model_bp = RandomForestClassifier(max_depth= 5, n_estimators=150,  oob_score=True, random_state=101)\n",
    "\n",
    "## Fitting the model with the training set\n",
    "# oob_score=True\n",
    "# class balanced\n",
    "\n",
    "model_bp.fit(X2_train, Y2_train)"
   ]
  },
  {
   "cell_type": "code",
   "execution_count": 50,
   "id": "5986c052",
   "metadata": {},
   "outputs": [],
   "source": [
    "pred_y_RF = model_bp.predict(X2_test)"
   ]
  },
  {
   "cell_type": "code",
   "execution_count": 52,
   "id": "5c316c02",
   "metadata": {},
   "outputs": [
    {
     "name": "stdout",
     "output_type": "stream",
     "text": [
      "              precision    recall  f1-score   support\n",
      "\n",
      "           0       1.00      1.00      1.00     22464\n",
      "           1       1.00      0.11      0.20        36\n",
      "\n",
      "    accuracy                           1.00     22500\n",
      "   macro avg       1.00      0.56      0.60     22500\n",
      "weighted avg       1.00      1.00      1.00     22500\n",
      "\n"
     ]
    }
   ],
   "source": [
    "print(metrics.classification_report(Y2_test, pred_y_RF))"
   ]
  },
  {
   "cell_type": "code",
   "execution_count": 53,
   "id": "e345015d",
   "metadata": {},
   "outputs": [],
   "source": [
    "from sklearn import metrics\n",
    "import matplotlib.pyplot as plt"
   ]
  },
  {
   "cell_type": "code",
   "execution_count": 54,
   "id": "66574c03",
   "metadata": {},
   "outputs": [],
   "source": [
    "fpr, tpr, thresholds = metrics.roc_curve(Y2_test, model_bp.predict_proba(X2_test)[:,1])"
   ]
  },
  {
   "cell_type": "code",
   "execution_count": 55,
   "id": "7df16eb5",
   "metadata": {},
   "outputs": [],
   "source": [
    "roc_auc = metrics.auc(fpr, tpr)"
   ]
  },
  {
   "cell_type": "code",
   "execution_count": 61,
   "id": "586c62b4",
   "metadata": {
    "scrolled": false
   },
   "outputs": [
    {
     "data": {
      "image/png": "[encoded data removed]",
      "text/plain": [
       "<Figure size 640x480 with 1 Axes>"
      ]
     },
     "metadata": {},
     "output_type": "display_data"
    }
   ],
   "source": [
    "display = metrics.RocCurveDisplay(fpr=fpr, tpr=tpr, roc_auc=roc_auc,\n",
    "                                  estimator_name='RF')\n",
    "display.plot()\n",
    "plt.show()\n"
   ]
  },
  {
   "cell_type": "markdown",
   "id": "f68904ad",
   "metadata": {},
   "source": [
    "## KNN"
   ]
  },
  {
   "cell_type": "code",
   "execution_count": 57,
   "id": "5f4133bb",
   "metadata": {},
   "outputs": [],
   "source": [
    "from sklearn.neighbors import KNeighborsClassifier"
   ]
  },
  {
   "cell_type": "code",
   "execution_count": 58,
   "id": "67297c60",
   "metadata": {},
   "outputs": [],
   "source": [
    "from sklearn.model_selection import cross_val_score"
   ]
  },
  {
   "cell_type": "code",
   "execution_count": 59,
   "id": "193295ae",
   "metadata": {},
   "outputs": [],
   "source": [
    "MoneyL_dataset_sub2_X = pd.DataFrame(scaled_predictor,columns=scaled_predictor.columns)"
   ]
  },
  {
   "cell_type": "code",
   "execution_count": 60,
   "id": "d87c0b80",
   "metadata": {},
   "outputs": [],
   "source": [
    "accuracy_rate = []\n",
    "\n",
    "# May take some time\n",
    "for i in range(1,40):\n",
    "    \n",
    "    knn = KNeighborsClassifier(n_neighbors=i)\n",
    "    score=cross_val_score(knn,scaled_predictor,MoneyL_dataset_sub1_Y,cv=10) #Cv here is K' in notes in cross validation and cv=10 \n",
    "                                                                #is industry standard\n",
    "    accuracy_rate.append(score.mean())"
   ]
  },
  {
   "cell_type": "code",
   "execution_count": 62,
   "id": "4b7a7282",
   "metadata": {},
   "outputs": [
    {
     "data": {
      "text/plain": [
       "[0.9984666453304886,\n",
       " 0.9986399839978665,\n",
       " 0.9986533191092144,\n",
       " 0.9985999822198515,\n",
       " 0.9986133173311998,\n",
       " 0.9985999822198515,\n",
       " 0.9985999822198515,\n",
       " 0.9986133155531848,\n",
       " 0.9986133155531848,\n",
       " 0.9986133155531848,\n",
       " 0.9986133155531848,\n",
       " 0.9986133155531848,\n",
       " 0.9986133155531848,\n",
       " 0.9986133155531848,\n",
       " 0.9986133155531848,\n",
       " 0.9986133155531848,\n",
       " 0.9986133155531848,\n",
       " 0.9986133155531848,\n",
       " 0.9986133155531848,\n",
       " 0.9986133155531848,\n",
       " 0.9986133155531848,\n",
       " 0.9986133155531848,\n",
       " 0.9986133155531848,\n",
       " 0.9986133155531848,\n",
       " 0.9986133155531848,\n",
       " 0.9986133155531848,\n",
       " 0.9986133155531848,\n",
       " 0.9986133155531848,\n",
       " 0.9986133155531848,\n",
       " 0.9986133155531848,\n",
       " 0.9986133155531848,\n",
       " 0.9986133155531848,\n",
       " 0.9986133155531848,\n",
       " 0.9986133155531848,\n",
       " 0.9986133155531848,\n",
       " 0.9986133155531848,\n",
       " 0.9986133155531848,\n",
       " 0.9986133155531848,\n",
       " 0.9986133155531848]"
      ]
     },
     "execution_count": 62,
     "metadata": {},
     "output_type": "execute_result"
    }
   ],
   "source": [
    "accuracy_rate"
   ]
  },
  {
   "cell_type": "code",
   "execution_count": 64,
   "id": "a5970928",
   "metadata": {},
   "outputs": [
    {
     "data": {
      "text/plain": [
       "[<matplotlib.lines.Line2D at 0x26c79160400>]"
      ]
     },
     "execution_count": 64,
     "metadata": {},
     "output_type": "execute_result"
    },
    {
     "data": {
      "image/png": "[encoded data removed]",
      "text/plain": [
       "<Figure size 640x480 with 1 Axes>"
      ]
     },
     "metadata": {},
     "output_type": "display_data"
    }
   ],
   "source": [
    "plt.plot(range(1,40),accuracy_rate,color='blue', linestyle='dashed', marker='o',\n",
    "         markerfacecolor='red', markersize=10)"
   ]
  },
  {
   "cell_type": "code",
   "execution_count": 68,
   "id": "464b08bd",
   "metadata": {},
   "outputs": [
    {
     "data": {
      "text/plain": [
       "KNeighborsClassifier(n_neighbors=9)"
      ]
     },
     "execution_count": 68,
     "metadata": {},
     "output_type": "execute_result"
    }
   ],
   "source": [
    "knn = KNeighborsClassifier(n_neighbors=9)\n",
    "\n",
    "knn.fit(X2_train,Y2_train)\n"
   ]
  },
  {
   "cell_type": "code",
   "execution_count": 69,
   "id": "5e1708c8",
   "metadata": {},
   "outputs": [],
   "source": [
    "pred_Knn = knn.predict(X2_test)"
   ]
  },
  {
   "cell_type": "code",
   "execution_count": 70,
   "id": "2649d5d9",
   "metadata": {},
   "outputs": [
    {
     "name": "stdout",
     "output_type": "stream",
     "text": [
      "              precision    recall  f1-score   support\n",
      "\n",
      "           0       1.00      1.00      1.00     22464\n",
      "           1       0.00      0.00      0.00        36\n",
      "\n",
      "    accuracy                           1.00     22500\n",
      "   macro avg       0.50      0.50      0.50     22500\n",
      "weighted avg       1.00      1.00      1.00     22500\n",
      "\n"
     ]
    }
   ],
   "source": [
    "print(classification_report(Y2_test,pred_Knn))"
   ]
  },
  {
   "cell_type": "markdown",
   "id": "d266c6e2",
   "metadata": {},
   "source": [
    "## Ada Boost"
   ]
  },
  {
   "cell_type": "code",
   "execution_count": 71,
   "id": "d20147d4",
   "metadata": {},
   "outputs": [],
   "source": [
    "from sklearn.tree import DecisionTreeClassifier"
   ]
  },
  {
   "cell_type": "code",
   "execution_count": 72,
   "id": "0e71cbb4",
   "metadata": {},
   "outputs": [
    {
     "data": {
      "text/plain": [
       "AdaBoostClassifier(base_estimator=DecisionTreeClassifier(), n_estimators=200,\n",
       "                   random_state=101)"
      ]
     },
     "execution_count": 72,
     "metadata": {},
     "output_type": "execute_result"
    }
   ],
   "source": [
    "## Importing AdaBoost classifier\n",
    "\n",
    "\n",
    "from sklearn.ensemble import AdaBoostClassifier\n",
    "\n",
    "## Initializing Decision Tree Classifier to use as base classifier\n",
    "\n",
    "dt_base_model = DecisionTreeClassifier() #here any classifier can be used like KNN, logistic regresssion, random forest\n",
    "\n",
    "# Initializing AdaBoost classifier with 200 classifers\n",
    "\n",
    "ada_model = AdaBoostClassifier(dt_base_model, n_estimators=200, random_state=101)\n",
    "\n",
    "# Fitting AdaBoost model to training set\n",
    "\n",
    "ada_model.fit(X2_train, Y2_train)"
   ]
  },
  {
   "cell_type": "code",
   "execution_count": 73,
   "id": "b30cffda",
   "metadata": {},
   "outputs": [],
   "source": [
    "pred_y_Ada = ada_model.predict(X2_test)"
   ]
  },
  {
   "cell_type": "code",
   "execution_count": 74,
   "id": "cc674672",
   "metadata": {},
   "outputs": [
    {
     "name": "stdout",
     "output_type": "stream",
     "text": [
      "              precision    recall  f1-score   support\n",
      "\n",
      "           0       1.00      1.00      1.00     22464\n",
      "           1       0.74      0.47      0.58        36\n",
      "\n",
      "    accuracy                           1.00     22500\n",
      "   macro avg       0.87      0.74      0.79     22500\n",
      "weighted avg       1.00      1.00      1.00     22500\n",
      "\n"
     ]
    }
   ],
   "source": [
    "print(metrics.classification_report(Y2_test, pred_y_Ada))"
   ]
  },
  {
   "cell_type": "code",
   "execution_count": 75,
   "id": "945453bc",
   "metadata": {},
   "outputs": [
    {
     "name": "stdout",
     "output_type": "stream",
     "text": [
      "0.9988888888888889\n"
     ]
    }
   ],
   "source": [
    "print(metrics.accuracy_score(Y2_test, pred_y_Ada))"
   ]
  },
  {
   "cell_type": "code",
   "execution_count": 76,
   "id": "a6ba514f",
   "metadata": {},
   "outputs": [
    {
     "data": {
      "text/plain": [
       "0.7359775641025642"
      ]
     },
     "execution_count": 76,
     "metadata": {},
     "output_type": "execute_result"
    }
   ],
   "source": [
    "auc_ada = metrics.roc_auc_score(Y2_test, ada_model.predict_proba(X2_test)[:,1])\n",
    "auc_ada"
   ]
  },
  {
   "cell_type": "markdown",
   "id": "83b19763",
   "metadata": {},
   "source": [
    "## Gradient Boosting"
   ]
  },
  {
   "cell_type": "code",
   "execution_count": 77,
   "id": "1b5eaebe",
   "metadata": {},
   "outputs": [],
   "source": [
    "## Importing Gradient Boosting classifier\n",
    "\n",
    "from sklearn.ensemble import GradientBoostingClassifier\n",
    "\n"
   ]
  },
  {
   "cell_type": "code",
   "execution_count": 78,
   "id": "31921ed3",
   "metadata": {},
   "outputs": [
    {
     "data": {
      "text/plain": [
       "GradientBoostingClassifier(max_depth=2, n_estimators=500, random_state=101)"
      ]
     },
     "execution_count": 78,
     "metadata": {},
     "output_type": "execute_result"
    }
   ],
   "source": [
    "model_gb = GradientBoostingClassifier(n_estimators=500, max_depth=depth, random_state=101) # here only gradient boossting \n",
    "#can be used\n",
    "\n",
    "## Fitting gradient boosting model to training set\n",
    "\n",
    "model_gb.fit(X2_train, Y2_train)"
   ]
  },
  {
   "cell_type": "code",
   "execution_count": 79,
   "id": "4e4bf6ef",
   "metadata": {},
   "outputs": [],
   "source": [
    "pred_y_GB = model_gb.predict(X2_test)"
   ]
  },
  {
   "cell_type": "code",
   "execution_count": 80,
   "id": "1a216c2a",
   "metadata": {},
   "outputs": [
    {
     "name": "stdout",
     "output_type": "stream",
     "text": [
      "              precision    recall  f1-score   support\n",
      "\n",
      "           0       1.00      1.00      1.00     22464\n",
      "           1       0.85      0.31      0.45        36\n",
      "\n",
      "    accuracy                           1.00     22500\n",
      "   macro avg       0.92      0.65      0.72     22500\n",
      "weighted avg       1.00      1.00      1.00     22500\n",
      "\n"
     ]
    }
   ],
   "source": [
    "print(metrics.classification_report(Y2_test, pred_y_GB))"
   ]
  },
  {
   "cell_type": "code",
   "execution_count": 81,
   "id": "9d9ae9a3",
   "metadata": {},
   "outputs": [
    {
     "data": {
      "text/html": [
       "<div>\n",
       "<style scoped>\n",
       "    .dataframe tbody tr th:only-of-type {\n",
       "        vertical-align: middle;\n",
       "    }\n",
       "\n",
       "    .dataframe tbody tr th {\n",
       "        vertical-align: top;\n",
       "    }\n",
       "\n",
       "    .dataframe thead th {\n",
       "        text-align: right;\n",
       "    }\n",
       "</style>\n",
       "<table border=\"1\" class=\"dataframe\">\n",
       "  <thead>\n",
       "    <tr style=\"text-align: right;\">\n",
       "      <th></th>\n",
       "      <th>step</th>\n",
       "      <th>type</th>\n",
       "      <th>amount</th>\n",
       "      <th>newbalanceOrig</th>\n",
       "      <th>newbalanceDest</th>\n",
       "      <th>isFlaggedFraud</th>\n",
       "    </tr>\n",
       "  </thead>\n",
       "  <tbody>\n",
       "    <tr>\n",
       "      <th>0</th>\n",
       "      <td>0.239900</td>\n",
       "      <td>1.545806</td>\n",
       "      <td>0.281504</td>\n",
       "      <td>-0.172608</td>\n",
       "      <td>-0.318567</td>\n",
       "      <td>-0.003652</td>\n",
       "    </tr>\n",
       "    <tr>\n",
       "      <th>1</th>\n",
       "      <td>-1.601127</td>\n",
       "      <td>-1.136220</td>\n",
       "      <td>-0.312655</td>\n",
       "      <td>-0.285283</td>\n",
       "      <td>-0.354062</td>\n",
       "      <td>-0.003652</td>\n",
       "    </tr>\n",
       "    <tr>\n",
       "      <th>2</th>\n",
       "      <td>-1.636127</td>\n",
       "      <td>1.545806</td>\n",
       "      <td>-0.050393</td>\n",
       "      <td>-0.203875</td>\n",
       "      <td>-0.339818</td>\n",
       "      <td>-0.003652</td>\n",
       "    </tr>\n",
       "    <tr>\n",
       "      <th>3</th>\n",
       "      <td>1.114912</td>\n",
       "      <td>-0.465713</td>\n",
       "      <td>2.559769</td>\n",
       "      <td>-0.291630</td>\n",
       "      <td>1.025672</td>\n",
       "      <td>-0.003652</td>\n",
       "    </tr>\n",
       "    <tr>\n",
       "      <th>4</th>\n",
       "      <td>-0.264108</td>\n",
       "      <td>1.545806</td>\n",
       "      <td>-0.188580</td>\n",
       "      <td>0.725239</td>\n",
       "      <td>-0.255987</td>\n",
       "      <td>-0.003652</td>\n",
       "    </tr>\n",
       "  </tbody>\n",
       "</table>\n",
       "</div>"
      ],
      "text/plain": [
       "       step      type    amount  newbalanceOrig  newbalanceDest  \\\n",
       "0  0.239900  1.545806  0.281504       -0.172608       -0.318567   \n",
       "1 -1.601127 -1.136220 -0.312655       -0.285283       -0.354062   \n",
       "2 -1.636127  1.545806 -0.050393       -0.203875       -0.339818   \n",
       "3  1.114912 -0.465713  2.559769       -0.291630        1.025672   \n",
       "4 -0.264108  1.545806 -0.188580        0.725239       -0.255987   \n",
       "\n",
       "   isFlaggedFraud  \n",
       "0       -0.003652  \n",
       "1       -0.003652  \n",
       "2       -0.003652  \n",
       "3       -0.003652  \n",
       "4       -0.003652  "
      ]
     },
     "execution_count": 81,
     "metadata": {},
     "output_type": "execute_result"
    }
   ],
   "source": [
    "scaled_predictor.head()"
   ]
  },
  {
   "cell_type": "code",
   "execution_count": 82,
   "id": "390edfc9",
   "metadata": {},
   "outputs": [
    {
     "name": "stdout",
     "output_type": "stream",
     "text": [
      "0.9988\n"
     ]
    }
   ],
   "source": [
    "print(metrics.accuracy_score(Y2_test, pred_y_GB))"
   ]
  },
  {
   "cell_type": "code",
   "execution_count": null,
   "id": "87d7e722",
   "metadata": {},
   "outputs": [],
   "source": []
  }
 ],
 "metadata": {
  "kernelspec": {
   "display_name": "Python 3 (ipykernel)",
   "language": "python",
   "name": "python3"
  },
  "language_info": {
   "codemirror_mode": {
    "name": "ipython",
    "version": 3
   },
   "file_extension": ".py",
   "mimetype": "text/x-python",
   "name": "python",
   "nbconvert_exporter": "python",
   "pygments_lexer": "ipython3",
   "version": "3.9.13"
  }
 },
 "nbformat": 4,
 "nbformat_minor": 5
}
